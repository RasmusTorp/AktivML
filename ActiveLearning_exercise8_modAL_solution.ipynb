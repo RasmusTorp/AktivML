{
 "cells": [
  {
   "cell_type": "markdown",
   "metadata": {
    "colab_type": "text",
    "id": "WTVQXY4PheDR"
   },
   "source": [
    "# Active Learning Using A Framework\n",
    "\n",
    "This notebook is meant as an example of using an existing python framework to perform active learning. This could potentially make it easier to try many different algorithms and query strategies, as a coding structure for making it easy to replace parts is predefined, as well as implementations of common methods are given, but it requires that the user learns how to take advantage of the framework.\n",
    "\n",
    "As a word of caution, in case you find using the framework presented here confusing, for future work you might work be better off implementing the methods yourself.\n",
    "\n",
    "The framework that we will take a look at is the python package modAL ([github](https://github.com/modAL-python/modAL/tree/dev), [docs](https://modal-python.readthedocs.io/en/latest/)). You should go ahead and read the examples found on github, and if you feel adventurous, you can already take a look at the documentation too, where you can explore the implemented algorithms and how to add your own.\n",
    "\n",
    "You can find the installation details [here](https://github.com/modAL-python/modAL/tree/dev#installation), but it should simply be: \n",
    "\n",
    "`pip install modAL`\n",
    "\n",
    "\n",
    "We give an example of implementating a Query-by-Committee algorithm using a pool-based scenario in the rest of this notebook going through these steps:\n",
    "\n",
    "1. Train a passive learner (random sampling from the pool) while evaluating its accuracy on a test set\n",
    "1. Create several committees of learners with a varying number of committee members\n",
    "1. Train these committees and evaluate accuracy on the test set\n",
    "1. Compare the learning curves between the passive learner and the different committees\n",
    "\n",
    "You should first read the implementation, try to change things, and run it to get an understand of how it all works. When you feel confident in using the code, you should do the exercise and compare the performances of the different methods.\n",
    "\n",
    "# Questions\n",
    "<font color=blue>\n",
    "How is the performance and computational complexity affected by the number of learners?<br>\n",
    "<font color=green>As the model has to be trained and evaluated on the entire pool for each of the committee members the complexity grows approximately linearly with the number of committee members. Fortunately, this can easily be done in parallel.<br>\n",
    "<font color=blue>Does the curve change in case another uncertainty sampling metric is used.<br>\n",
    "<font color=green>In this case we have more than one class so the different metrics may not lead to same samples being chosen (see the plot for three classes in the presentation), however in practice it appears that there is not much difference in this case.<br>\n",
    "<font color=blue>How are the active learners dependent on the amount of initial labeled data?<br>\n",
    "<font color=green>This is related to how well the model is able to make predictions about which points to include, when very few points are included initially the estimated uncertainty of samples to use can be very bad as the models are by no mean converged and therefore also produce \"strange\" uncertainty estimates. There is then a regime where there will be a benefit (of course still depending on the setting and presence of outliers etc.) where there will be a benefit, however in the other extreme where the model has already enough data is esstentially converged and it will make little or no difference what additional data is acquired.<br>\n",
    "<br>\n",
    "<font color=blue>\n",
    "    \n",
    "If you have more time, you can also try to do the following:\n",
    "- Try to exchange the classification algorithm and rerun, choose for example the SVC and again induce randomness via bagging (bootstrap).<br>\n",
    "- Run on a different data set\n",
    "- Try different approaches to make the base learner differ (see ***the base model and randomness*** below)\n",
    "\n",
    "<font color=black>\n",
    "    \n",
    "### Implementation\n",
    "Be aware of these details of the implementation.\n",
    "\n",
    "**The base model and randomness**:\n",
    "\n",
    "It is important that different committee members/learners differ in their hypothesis/parameters, so we get a exploration of the version space. If the fitting algorithm is not inherently random, i.e., if given the same data it estimates identical parameters every time, the data should be resampled to fit the learners on different data. As you have seen, this can be done by using bagging.\n",
    "\n",
    "The example below uses a [random forest classifier](https://scikit-learn.org/stable/modules/ensemble.html#forest) as the base learner for the committee, which is an ensemble method using bagging already. You can take a look at the [parameters](https://scikit-learn.org/stable/modules/generated/sklearn.ensemble.RandomForestClassifier.html) to control how different the models become. ***Hint***: The number of trees `n_estimators` is important for this.\n",
    "\n",
    "You can also change the resampling to use bagging, and then use any learner you would like to try.\n",
    "\n",
    "\n",
    "**required packages**:\n",
    "\n",
    "The notebook uses the following packages to implement the example\n",
    "\n",
    "- Pandas : to store and evaluate the results\n",
    "- joblib (optional) : to speed up the experiment by running it parallel\n",
    "- tqdm : progress bar to keep track of run times.\n",
    "\n",
    "***Note that it will take quite some time to run some of the code in particular for the larger committees. So equip yourself with patience and perhaps coffee and/or sweets ;)***"
   ]
  },
  {
   "cell_type": "markdown",
   "metadata": {
    "colab_type": "text",
    "id": "3RnCWVYEheDS"
   },
   "source": [
    "## Setup"
   ]
  },
  {
   "cell_type": "code",
   "execution_count": 2,
   "metadata": {
    "colab": {
     "base_uri": "https://localhost:8080/",
     "height": 469
    },
    "colab_type": "code",
    "id": "uD_uQqrHheDT",
    "outputId": "dce4aca3-2485-4c74-a4ab-191502350202"
   },
   "outputs": [],
   "source": [
    "from collections import namedtuple\n",
    "import pandas as pd\n",
    "import numpy as np\n",
    "import sys\n",
    "#!{sys.executable} -m pip install tqdm\n",
    "#!{sys.executable} -m pip install modAL\n",
    "\n",
    "from modAL.disagreement import vote_entropy_sampling\n",
    "from modAL.models import ActiveLearner, Committee\n",
    "\n",
    "from sklearn.ensemble import RandomForestClassifier\n",
    "\n",
    "from sklearn.model_selection import train_test_split\n",
    "from sklearn.decomposition import PCA\n",
    "from tqdm.notebook import tqdm, trange\n",
    "#the line above may fail on google colab so you can use the line below in that case but progress bars will looks less nice\n",
    "#from tqdm import tqdm, trange\n",
    "import matplotlib as mpl\n",
    "import matplotlib.pyplot as plt\n",
    "%matplotlib inline\n",
    "\n",
    "ModelClass=RandomForestClassifier\n",
    "\n",
    "\n",
    "import warnings\n",
    "warnings.simplefilter(action='ignore', category=FutureWarning)\n",
    "\n",
    "ResultsRecord = namedtuple('ResultsRecord', ['estimator', 'query_id', 'score'])"
   ]
  },
  {
   "cell_type": "markdown",
   "metadata": {
    "colab_type": "text",
    "id": "E_uXnm2_heDX"
   },
   "source": [
    "## Experiment parameters"
   ]
  },
  {
   "cell_type": "code",
   "execution_count": 3,
   "metadata": {
    "colab": {},
    "colab_type": "code",
    "id": "qjjVD9gsheDY"
   },
   "outputs": [],
   "source": [
    "SEED = 1 # Set our RNG seed for reproducibility.\n",
    "\n",
    "n_queries = 75 # You can lower this to decrease run time\n",
    "\n",
    "# You can increase this to get error bars on your evaluation.\n",
    "# You probably need to use the parallel code to make this reasonable to compute\n",
    "n_repeats = 3"
   ]
  },
  {
   "cell_type": "markdown",
   "metadata": {
    "colab_type": "text",
    "id": "DbQrSqSCheDb"
   },
   "source": [
    "## Load Data"
   ]
  },
  {
   "cell_type": "code",
   "execution_count": 8,
   "metadata": {
    "colab": {},
    "colab_type": "code",
    "id": "njLUSsPzheDc"
   },
   "outputs": [],
   "source": [
    "from sklearn.datasets import load_iris, load_digits\n",
    "\n",
    "# loading the data dataset\n",
    "data_set = load_digits()\n",
    "X = data_set['data']\n",
    "y = data_set['target']\n",
    "\n",
    "# Train test split\n",
    "X_train, X_test, y_train, y_test = train_test_split(\n",
    "    X, y, test_size=1/3, random_state=SEED)"
   ]
  },
  {
   "cell_type": "code",
   "execution_count": 9,
   "metadata": {
    "colab": {},
    "colab_type": "code",
    "id": "PV65ptivheDe"
   },
   "outputs": [],
   "source": [
    "# in case repetitions are desired\n",
    "permutations=[np.random.permutation(X_train.shape[0]) for _ in range(n_repeats)]"
   ]
  },
  {
   "cell_type": "markdown",
   "metadata": {
    "colab_type": "text",
    "id": "2FZbT2sqheDh"
   },
   "source": [
    "## Passive Learner"
   ]
  },
  {
   "cell_type": "code",
   "execution_count": 12,
   "metadata": {
    "colab": {
     "base_uri": "https://localhost:8080/",
     "height": 1000
    },
    "colab_type": "code",
    "id": "40enXhw-heDi",
    "outputId": "861751f9-fcb5-4f02-df7a-461ab3e2a379"
   },
   "outputs": [
    {
     "ename": "ImportError",
     "evalue": "IProgress not found. Please update jupyter and ipywidgets. See https://ipywidgets.readthedocs.io/en/stable/user_install.html",
     "output_type": "error",
     "traceback": [
      "\u001b[1;31m---------------------------------------------------------------------------\u001b[0m",
      "\u001b[1;31mImportError\u001b[0m                               Traceback (most recent call last)",
      "Cell \u001b[1;32mIn[12], line 3\u001b[0m\n\u001b[0;32m      1\u001b[0m random_results \u001b[39m=\u001b[39m []\n\u001b[1;32m----> 3\u001b[0m \u001b[39mfor\u001b[39;00m i_repeat \u001b[39min\u001b[39;00m tqdm(\u001b[39mrange\u001b[39;49m(n_repeats)):\n\u001b[0;32m      4\u001b[0m     learner \u001b[39m=\u001b[39m ModelClass()\n\u001b[0;32m      5\u001b[0m     \u001b[39mfor\u001b[39;00m i_query \u001b[39min\u001b[39;00m tqdm(\u001b[39mrange\u001b[39m(\u001b[39m1\u001b[39m,n_queries),leave\u001b[39m=\u001b[39m\u001b[39mFalse\u001b[39;00m):\n",
      "File \u001b[1;32mc:\\Users\\Rasmus\\Desktop\\AktivML\\project2\\AktivML\\AktivML\\.venv\\lib\\site-packages\\tqdm\\notebook.py:238\u001b[0m, in \u001b[0;36mtqdm_notebook.__init__\u001b[1;34m(self, *args, **kwargs)\u001b[0m\n\u001b[0;32m    236\u001b[0m unit_scale \u001b[39m=\u001b[39m \u001b[39m1\u001b[39m \u001b[39mif\u001b[39;00m \u001b[39mself\u001b[39m\u001b[39m.\u001b[39munit_scale \u001b[39mis\u001b[39;00m \u001b[39mTrue\u001b[39;00m \u001b[39melse\u001b[39;00m \u001b[39mself\u001b[39m\u001b[39m.\u001b[39munit_scale \u001b[39mor\u001b[39;00m \u001b[39m1\u001b[39m\n\u001b[0;32m    237\u001b[0m total \u001b[39m=\u001b[39m \u001b[39mself\u001b[39m\u001b[39m.\u001b[39mtotal \u001b[39m*\u001b[39m unit_scale \u001b[39mif\u001b[39;00m \u001b[39mself\u001b[39m\u001b[39m.\u001b[39mtotal \u001b[39melse\u001b[39;00m \u001b[39mself\u001b[39m\u001b[39m.\u001b[39mtotal\n\u001b[1;32m--> 238\u001b[0m \u001b[39mself\u001b[39m\u001b[39m.\u001b[39mcontainer \u001b[39m=\u001b[39m \u001b[39mself\u001b[39;49m\u001b[39m.\u001b[39;49mstatus_printer(\u001b[39mself\u001b[39;49m\u001b[39m.\u001b[39;49mfp, total, \u001b[39mself\u001b[39;49m\u001b[39m.\u001b[39;49mdesc, \u001b[39mself\u001b[39;49m\u001b[39m.\u001b[39;49mncols)\n\u001b[0;32m    239\u001b[0m \u001b[39mself\u001b[39m\u001b[39m.\u001b[39mcontainer\u001b[39m.\u001b[39mpbar \u001b[39m=\u001b[39m proxy(\u001b[39mself\u001b[39m)\n\u001b[0;32m    240\u001b[0m \u001b[39mself\u001b[39m\u001b[39m.\u001b[39mdisplayed \u001b[39m=\u001b[39m \u001b[39mFalse\u001b[39;00m\n",
      "File \u001b[1;32mc:\\Users\\Rasmus\\Desktop\\AktivML\\project2\\AktivML\\AktivML\\.venv\\lib\\site-packages\\tqdm\\notebook.py:113\u001b[0m, in \u001b[0;36mtqdm_notebook.status_printer\u001b[1;34m(_, total, desc, ncols)\u001b[0m\n\u001b[0;32m    104\u001b[0m \u001b[39m# Fallback to text bar if there's no total\u001b[39;00m\n\u001b[0;32m    105\u001b[0m \u001b[39m# DEPRECATED: replaced with an 'info' style bar\u001b[39;00m\n\u001b[0;32m    106\u001b[0m \u001b[39m# if not total:\u001b[39;00m\n\u001b[1;32m   (...)\u001b[0m\n\u001b[0;32m    110\u001b[0m \n\u001b[0;32m    111\u001b[0m \u001b[39m# Prepare IPython progress bar\u001b[39;00m\n\u001b[0;32m    112\u001b[0m \u001b[39mif\u001b[39;00m IProgress \u001b[39mis\u001b[39;00m \u001b[39mNone\u001b[39;00m:  \u001b[39m# #187 #451 #558 #872\u001b[39;00m\n\u001b[1;32m--> 113\u001b[0m     \u001b[39mraise\u001b[39;00m \u001b[39mImportError\u001b[39;00m(WARN_NOIPYW)\n\u001b[0;32m    114\u001b[0m \u001b[39mif\u001b[39;00m total:\n\u001b[0;32m    115\u001b[0m     pbar \u001b[39m=\u001b[39m IProgress(\u001b[39mmin\u001b[39m\u001b[39m=\u001b[39m\u001b[39m0\u001b[39m, \u001b[39mmax\u001b[39m\u001b[39m=\u001b[39mtotal)\n",
      "\u001b[1;31mImportError\u001b[0m: IProgress not found. Please update jupyter and ipywidgets. See https://ipywidgets.readthedocs.io/en/stable/user_install.html"
     ]
    }
   ],
   "source": [
    "random_results = []\n",
    "\n",
    "for i_repeat in tqdm(range(n_repeats)):\n",
    "    learner = ModelClass()\n",
    "    for i_query in tqdm(range(1,n_queries),leave=False):\n",
    "        query_indices=permutations[i_repeat][:1+i_query]\n",
    "        learner=learner.fit(X=X_train[query_indices, :], y=y_train[query_indices])\n",
    "        score = learner.score(X_test, y_test)\n",
    "        \n",
    "        random_results.append(ResultsRecord('random', i_query, score))"
   ]
  },
  {
   "cell_type": "markdown",
   "metadata": {
    "colab_type": "text",
    "id": "foic726aheDl"
   },
   "source": [
    "## A committee"
   ]
  },
  {
   "cell_type": "code",
   "execution_count": null,
   "metadata": {
    "colab": {},
    "colab_type": "code",
    "id": "DLZOZ-w9heDm"
   },
   "outputs": [
    {
     "ename": "",
     "evalue": "",
     "output_type": "error",
     "traceback": [
      "\u001b[1;31mRunning cells with '.venv' requires the ipykernel package.\n",
      "\u001b[1;31mRun the following command to install 'ipykernel' into the Python environment. \n",
      "\u001b[1;31mCommand: 'c:/Users/Rasmus/Desktop/AktivML/project2/AktivML/AktivML/.venv/Scripts/python.exe -m pip install ipykernel -U --force-reinstall'"
     ]
    }
   ],
   "source": [
    "n_members=[2, 4, 8, 16]"
   ]
  },
  {
   "cell_type": "code",
   "execution_count": null,
   "metadata": {
    "colab": {
     "base_uri": "https://localhost:8080/",
     "height": 1000
    },
    "colab_type": "code",
    "id": "bptD4QTXheDp",
    "outputId": "def52681-465e-43d8-a737-d8e6d29720b6"
   },
   "outputs": [
    {
     "ename": "",
     "evalue": "",
     "output_type": "error",
     "traceback": [
      "\u001b[1;31mRunning cells with '.venv' requires the ipykernel package.\n",
      "\u001b[1;31mRun the following command to install 'ipykernel' into the Python environment. \n",
      "\u001b[1;31mCommand: 'c:/Users/Rasmus/Desktop/AktivML/project2/AktivML/AktivML/.venv/Scripts/python.exe -m pip install ipykernel -U --force-reinstall'"
     ]
    }
   ],
   "source": [
    "# SEQUENTIAL VERSION OF THE NEXT CELL\n",
    "# SLOWER BUT EASIER TO USE IF YOU ARE UNFAMILIAR WITH PARALLEL PROGRAMMING IN PYTHON\n",
    "\n",
    "committee_results = []\n",
    "\n",
    "for i_repeat in tqdm(range(n_repeats)):\n",
    "    for i_members in tqdm(n_members, desc=f'Round (no. members) {i_repeat}',leave=False):\n",
    "        X_pool = X_train.copy()\n",
    "        y_pool = y_train.copy()\n",
    "\n",
    "        start_indices = permutations[i_repeat][:1]\n",
    "\n",
    "        committee_members = [ActiveLearner(estimator=ModelClass(),\n",
    "                                           X_training=X_train[start_indices, :],\n",
    "                                           y_training=y_train[start_indices],\n",
    "                                           ) for _ in range(i_members)]\n",
    "\n",
    "        committee = Committee(learner_list=committee_members,\n",
    "                              query_strategy=vote_entropy_sampling)\n",
    "\n",
    "        X_pool = np.delete(X_pool, start_indices, axis=0)\n",
    "        y_pool = np.delete(y_pool, start_indices)\n",
    "\n",
    "        for i_query in tqdm(range(1, n_queries),desc=f'Points {i_repeat}',leave=False):\n",
    "            query_idx, query_instance = committee.query(X_pool)\n",
    "\n",
    "            committee.teach(\n",
    "                X=X_pool[query_idx].reshape(1, -1),\n",
    "                y=y_pool[query_idx].reshape(1, )\n",
    "            )\n",
    "            committee._set_classes() #this is needed to update for unknown class labels\n",
    "\n",
    "            X_pool = np.delete(X_pool, query_idx, axis=0)\n",
    "            y_pool = np.delete(y_pool, query_idx)\n",
    "\n",
    "            score = committee.score(X_test, y_test)\n",
    "\n",
    "            committee_results.append(ResultsRecord(\n",
    "                f'committe_{i_members}',\n",
    "                i_query,\n",
    "                score))\n"
   ]
  },
  {
   "cell_type": "code",
   "execution_count": null,
   "metadata": {
    "colab": {
     "base_uri": "https://localhost:8080/",
     "height": 102
    },
    "colab_type": "code",
    "id": "dhFtiyVqheDr",
    "outputId": "818bea09-9988-437c-b416-7a6bfeb67ab5"
   },
   "outputs": [
    {
     "ename": "",
     "evalue": "",
     "output_type": "error",
     "traceback": [
      "\u001b[1;31mRunning cells with '.venv' requires the ipykernel package.\n",
      "\u001b[1;31mRun the following command to install 'ipykernel' into the Python environment. \n",
      "\u001b[1;31mCommand: 'c:/Users/Rasmus/Desktop/AktivML/project2/AktivML/AktivML/.venv/Scripts/python.exe -m pip install ipykernel -U --force-reinstall'"
     ]
    }
   ],
   "source": [
    "# PARRALLEL VERSION OF THE CELL ABOVE\n",
    "# Use this instead if you aren't afraid of working with parallel code or want to learn.\n",
    "\n",
    "from joblib import Parallel, delayed\n",
    "import itertools as it\n",
    "\n",
    "\n",
    "def train_committee(i_repeat, i_members, X_train, y_train):\n",
    "    committee_results = []\n",
    "    print('') # progress bars won't be displayed if not included\n",
    "\n",
    "    X_pool = X_train.copy()\n",
    "    y_pool = y_train.copy()\n",
    "\n",
    "    start_indices = permutations[i_repeat][:1]\n",
    "\n",
    "    committee_members = [ActiveLearner(estimator=ModelClass(),\n",
    "                                       X_training=X_train[start_indices, :],\n",
    "                                       y_training=y_train[start_indices],\n",
    "                                       ) for _ in range(i_members)]\n",
    "\n",
    "    committee = Committee(learner_list=committee_members,\n",
    "                          query_strategy=vote_entropy_sampling)\n",
    "\n",
    "    X_pool = np.delete(X_pool, start_indices, axis=0)\n",
    "    y_pool = np.delete(y_pool, start_indices)\n",
    "\n",
    "    for i_query in tqdm(range(1, n_queries), desc=f'Round {i_repeat} with {i_members} members', leave=False):\n",
    "        query_idx, query_instance = committee.query(X_pool)\n",
    "\n",
    "        committee.teach(\n",
    "            X=X_pool[query_idx].reshape(1, -1),\n",
    "            y=y_pool[query_idx].reshape(1, )\n",
    "        )\n",
    "        committee._set_classes() #this is needed to update for unknown class labels\n",
    "\n",
    "        X_pool = np.delete(X_pool, query_idx, axis=0)\n",
    "        y_pool = np.delete(y_pool, query_idx)\n",
    "\n",
    "        score = committee.score(X_test, y_test)\n",
    "\n",
    "        committee_results.append(ResultsRecord(\n",
    "            f'committe_{i_members}',\n",
    "            i_query,\n",
    "            score))\n",
    "\n",
    "    return committee_results\n",
    "\n",
    "\n",
    "result = Parallel(n_jobs=-1)(delayed(train_committee)(i,i_members,X_train,y_train)\n",
    "                    for i, i_members in it.product(range(n_repeats), n_members))\n",
    "\n",
    "print('All jobs done')\n",
    "committee_results=[r for rs in result for r in rs]\n"
   ]
  },
  {
   "cell_type": "markdown",
   "metadata": {
    "colab_type": "text",
    "id": "-7GD9766heDu"
   },
   "source": [
    "# Compare the results"
   ]
  },
  {
   "cell_type": "code",
   "execution_count": null,
   "metadata": {
    "colab": {},
    "colab_type": "code",
    "id": "HsTsWg6pheDv"
   },
   "outputs": [
    {
     "ename": "",
     "evalue": "",
     "output_type": "error",
     "traceback": [
      "\u001b[1;31mRunning cells with '.venv' requires the ipykernel package.\n",
      "\u001b[1;31mRun the following command to install 'ipykernel' into the Python environment. \n",
      "\u001b[1;31mCommand: 'c:/Users/Rasmus/Desktop/AktivML/project2/AktivML/AktivML/.venv/Scripts/python.exe -m pip install ipykernel -U --force-reinstall'"
     ]
    }
   ],
   "source": [
    "df_results = pd.concat([pd.DataFrame(results)\n",
    "                        for results in\n",
    "                        [random_results, committee_results]])"
   ]
  },
  {
   "cell_type": "code",
   "execution_count": null,
   "metadata": {
    "colab": {
     "base_uri": "https://localhost:8080/",
     "height": 204
    },
    "colab_type": "code",
    "id": "eZ_BsppIheDy",
    "outputId": "6f313886-0086-4c07-daa7-55eacd8d3cc3"
   },
   "outputs": [
    {
     "ename": "",
     "evalue": "",
     "output_type": "error",
     "traceback": [
      "\u001b[1;31mRunning cells with '.venv' requires the ipykernel package.\n",
      "\u001b[1;31mRun the following command to install 'ipykernel' into the Python environment. \n",
      "\u001b[1;31mCommand: 'c:/Users/Rasmus/Desktop/AktivML/project2/AktivML/AktivML/.venv/Scripts/python.exe -m pip install ipykernel -U --force-reinstall'"
     ]
    }
   ],
   "source": [
    "df_results.head()"
   ]
  },
  {
   "cell_type": "markdown",
   "metadata": {
    "colab_type": "text",
    "id": "jjigfuVoheD0"
   },
   "source": [
    "**Exercise**: Plot the `score` column for each `estimator` as a function of the `query_id`. \n",
    "\n",
    "If you used `n_repeats>1` then remember to take the mean of the score for each combination of `query_id` and `estimator`, and add error bars if you can.\n",
    "\n",
    "You can extract the results either by using `df_results.values` or use pandas directly for plotting.\n",
    "\n",
    "Plotting from a pandas dataframe using `df.plot()` plots a line for each column, so you should change the dataframe accordingly. See [this link](https://pandas.pydata.org/pandas-docs/stable/user_guide/reshaping.html) on how to reshape a dataframe.\n",
    "\n",
    "Otherwise simple numpy arrays and matplotlib works fine."
   ]
  },
  {
   "cell_type": "code",
   "execution_count": null,
   "metadata": {
    "colab": {
     "base_uri": "https://localhost:8080/",
     "height": 136
    },
    "colab_type": "code",
    "id": "vyZbBuoQheD1",
    "outputId": "f1be7f89-c1ec-49a6-d2e2-13e34b0a64fe"
   },
   "outputs": [
    {
     "ename": "",
     "evalue": "",
     "output_type": "error",
     "traceback": [
      "\u001b[1;31mRunning cells with '.venv' requires the ipykernel package.\n",
      "\u001b[1;31mRun the following command to install 'ipykernel' into the Python environment. \n",
      "\u001b[1;31mCommand: 'c:/Users/Rasmus/Desktop/AktivML/project2/AktivML/AktivML/.venv/Scripts/python.exe -m pip install ipykernel -U --force-reinstall'"
     ]
    }
   ],
   "source": [
    "df_results.values"
   ]
  },
  {
   "cell_type": "code",
   "execution_count": null,
   "metadata": {
    "colab": {
     "base_uri": "https://localhost:8080/",
     "height": 389
    },
    "colab_type": "code",
    "id": "B4T83okpheD3",
    "outputId": "fce914cf-6c1b-4052-8723-12dd6f610f0d"
   },
   "outputs": [
    {
     "ename": "",
     "evalue": "",
     "output_type": "error",
     "traceback": [
      "\u001b[1;31mRunning cells with '.venv' requires the ipykernel package.\n",
      "\u001b[1;31mRun the following command to install 'ipykernel' into the Python environment. \n",
      "\u001b[1;31mCommand: 'c:/Users/Rasmus/Desktop/AktivML/project2/AktivML/AktivML/.venv/Scripts/python.exe -m pip install ipykernel -U --force-reinstall'"
     ]
    }
   ],
   "source": [
    "# PANDAS SOLUTION\n",
    "\n",
    "df_results_mean=df_results.groupby(['estimator','query_id']).mean()\n",
    "df_results_std=df_results.groupby(['estimator','query_id']).std()\n",
    "\n",
    "df_mean=df_results_mean.reset_index().pivot(index='query_id', columns='estimator', values='score')\n",
    "df_std=df_results_std.reset_index().pivot(index='query_id', columns='estimator', values='score')\n",
    "\n",
    "df_mean.plot(figsize=(8.5,6), yerr=df_std)\n",
    "plt.grid('on')"
   ]
  },
  {
   "cell_type": "code",
   "execution_count": null,
   "metadata": {},
   "outputs": [
    {
     "ename": "",
     "evalue": "",
     "output_type": "error",
     "traceback": [
      "\u001b[1;31mRunning cells with '.venv' requires the ipykernel package.\n",
      "\u001b[1;31mRun the following command to install 'ipykernel' into the Python environment. \n",
      "\u001b[1;31mCommand: 'c:/Users/Rasmus/Desktop/AktivML/project2/AktivML/AktivML/.venv/Scripts/python.exe -m pip install ipykernel -U --force-reinstall'"
     ]
    }
   ],
   "source": []
  }
 ],
 "metadata": {
  "colab": {
   "collapsed_sections": [],
   "name": "Active_Learning_Framework.ipynb",
   "provenance": []
  },
  "kernelspec": {
   "display_name": "Python 3 (ipykernel)",
   "language": "python",
   "name": "python3"
  },
  "language_info": {
   "codemirror_mode": {
    "name": "ipython",
    "version": 3
   },
   "file_extension": ".py",
   "mimetype": "text/x-python",
   "name": "python",
   "nbconvert_exporter": "python",
   "pygments_lexer": "ipython3",
   "version": "3.9.0"
  },
  "varInspector": {
   "cols": {
    "lenName": 16,
    "lenType": 16,
    "lenVar": 40
   },
   "kernels_config": {
    "python": {
     "delete_cmd_postfix": "",
     "delete_cmd_prefix": "del ",
     "library": "var_list.py",
     "varRefreshCmd": "print(var_dic_list())"
    },
    "r": {
     "delete_cmd_postfix": ") ",
     "delete_cmd_prefix": "rm(",
     "library": "var_list.r",
     "varRefreshCmd": "cat(var_dic_list()) "
    }
   },
   "oldHeight": 283,
   "position": {
    "height": "40px",
    "left": "1119px",
    "right": "20px",
    "top": "112px",
    "width": "573px"
   },
   "types_to_exclude": [
    "module",
    "function",
    "builtin_function_or_method",
    "instance",
    "_Feature"
   ],
   "varInspector_section_display": "none",
   "window_display": false
  }
 },
 "nbformat": 4,
 "nbformat_minor": 1
}
